{
 "cells": [
  {
   "cell_type": "markdown",
   "metadata": {
    "colab_type": "text",
    "id": "view-in-github"
   },
   "source": [
    "<a href=\"https://colab.research.google.com/github/Linda0628/hhh/blob/main/1123_01.ipynb\" target=\"_parent\"><img src=\"https://colab.research.google.com/assets/colab-badge.svg\" alt=\"Open In Colab\"/></a>"
   ]
  },
  {
   "cell_type": "markdown",
   "metadata": {
    "id": "_rx0sQHrkdOZ"
   },
   "source": [
    "#Air Pollution Analysis"
   ]
  },
  {
   "cell_type": "markdown",
   "metadata": {
    "id": "Cv6u0dUzkb9v"
   },
   "source": [
    "##Installing the necessary libraries"
   ]
  },
  {
   "cell_type": "code",
   "execution_count": 1,
   "metadata": {
    "id": "SvxibLu2dPLn"
   },
   "outputs": [
    {
     "name": "stdout",
     "output_type": "stream",
     "text": [
      "Requirement already satisfied: py-openaq in /Users/linda/opt/anaconda3/envs/pp-proj2/lib/python3.8/site-packages (1.1.0)\r\n"
     ]
    }
   ],
   "source": [
    "!pip install py-openaq"
   ]
  },
  {
   "cell_type": "code",
   "execution_count": 2,
   "metadata": {
    "id": "wGt-sFKykmEy"
   },
   "outputs": [],
   "source": [
    "import seaborn as sns\n",
    "import pandas as pd\n",
    "import matplotlib.pyplot as plt\n",
    "import numpy as np"
   ]
  },
  {
   "cell_type": "markdown",
   "metadata": {
    "id": "gO7jG-oSkwSg"
   },
   "source": [
    "##Importing data on Cities"
   ]
  },
  {
   "cell_type": "code",
   "execution_count": 3,
   "metadata": {
    "id": "_0nn6mFxemKo"
   },
   "outputs": [],
   "source": [
    "import openaq\n",
    "\n",
    "api = openaq.OpenAQ()\n",
    "\n",
    "status, resp = api.cities()\n"
   ]
  },
  {
   "cell_type": "code",
   "execution_count": 4,
   "metadata": {
    "colab": {
     "base_uri": "https://localhost:8080/"
    },
    "id": "SbxtutFaezlT",
    "outputId": "5662724f-422d-49bc-cb8f-a1f503ccb96e"
   },
   "outputs": [
    {
     "name": "stderr",
     "output_type": "stream",
     "text": [
      "/Users/linda/opt/anaconda3/envs/pp-proj2/lib/python3.8/site-packages/openaq/decorators.py:57: FutureWarning: pandas.io.json.json_normalize is deprecated, use pandas.json_normalize instead\n",
      "  data = pd.io.json.json_normalize(resp)\n"
     ]
    }
   ],
   "source": [
    "#Importing data for the US\n",
    "us = api.latest(country = 'US', df=True)"
   ]
  },
  {
   "cell_type": "code",
   "execution_count": 5,
   "metadata": {
    "colab": {
     "base_uri": "https://localhost:8080/",
     "height": 234
    },
    "id": "hgupSxYOj7UQ",
    "outputId": "188f1c6b-6a59-4918-dc5a-67d0b91e6889"
   },
   "outputs": [
    {
     "data": {
      "text/html": [
       "<div>\n",
       "<style scoped>\n",
       "    .dataframe tbody tr th:only-of-type {\n",
       "        vertical-align: middle;\n",
       "    }\n",
       "\n",
       "    .dataframe tbody tr th {\n",
       "        vertical-align: top;\n",
       "    }\n",
       "\n",
       "    .dataframe thead th {\n",
       "        text-align: right;\n",
       "    }\n",
       "</style>\n",
       "<table border=\"1\" class=\"dataframe\">\n",
       "  <thead>\n",
       "    <tr style=\"text-align: right;\">\n",
       "      <th></th>\n",
       "      <th>parameter</th>\n",
       "      <th>value</th>\n",
       "      <th>unit</th>\n",
       "      <th>sourceName</th>\n",
       "      <th>country</th>\n",
       "      <th>city</th>\n",
       "      <th>location</th>\n",
       "      <th>averagingPeriod.value</th>\n",
       "      <th>averagingPeriod.unit</th>\n",
       "    </tr>\n",
       "    <tr>\n",
       "      <th>lastUpdated</th>\n",
       "      <th></th>\n",
       "      <th></th>\n",
       "      <th></th>\n",
       "      <th></th>\n",
       "      <th></th>\n",
       "      <th></th>\n",
       "      <th></th>\n",
       "      <th></th>\n",
       "      <th></th>\n",
       "    </tr>\n",
       "  </thead>\n",
       "  <tbody>\n",
       "    <tr>\n",
       "      <th>2021-11-06 05:00:00+00:00</th>\n",
       "      <td>pm25</td>\n",
       "      <td>7.000000</td>\n",
       "      <td>b'\\xc2\\xb5g/m\\xc2\\xb3'</td>\n",
       "      <td>AirNow</td>\n",
       "      <td>US</td>\n",
       "      <td>Pittsburgh</td>\n",
       "      <td>Parkway East (Near R</td>\n",
       "      <td>3600.0</td>\n",
       "      <td>seconds</td>\n",
       "    </tr>\n",
       "    <tr>\n",
       "      <th>2020-12-31 04:30:00+00:00</th>\n",
       "      <td>no2</td>\n",
       "      <td>0.010495</td>\n",
       "      <td>ppm</td>\n",
       "      <td>AirNow</td>\n",
       "      <td>US</td>\n",
       "      <td>Pittsburgh</td>\n",
       "      <td>Parkway East (Near R</td>\n",
       "      <td>NaN</td>\n",
       "      <td>seconds</td>\n",
       "    </tr>\n",
       "    <tr>\n",
       "      <th>2020-12-31 04:30:00+00:00</th>\n",
       "      <td>co</td>\n",
       "      <td>0.303487</td>\n",
       "      <td>ppm</td>\n",
       "      <td>AirNow</td>\n",
       "      <td>US</td>\n",
       "      <td>Pittsburgh</td>\n",
       "      <td>Parkway East (Near R</td>\n",
       "      <td>NaN</td>\n",
       "      <td>seconds</td>\n",
       "    </tr>\n",
       "    <tr>\n",
       "      <th>2021-11-25 18:00:00+00:00</th>\n",
       "      <td>so2</td>\n",
       "      <td>0.000000</td>\n",
       "      <td>ppm</td>\n",
       "      <td>AirNow</td>\n",
       "      <td>US</td>\n",
       "      <td>Pittsburgh</td>\n",
       "      <td>Parkway East (Near R</td>\n",
       "      <td>NaN</td>\n",
       "      <td>seconds</td>\n",
       "    </tr>\n",
       "    <tr>\n",
       "      <th>2020-11-01 04:00:00+00:00</th>\n",
       "      <td>no</td>\n",
       "      <td>0.007021</td>\n",
       "      <td>ppm</td>\n",
       "      <td>AirNow</td>\n",
       "      <td>US</td>\n",
       "      <td>Pittsburgh</td>\n",
       "      <td>Parkway East (Near R</td>\n",
       "      <td>NaN</td>\n",
       "      <td>seconds</td>\n",
       "    </tr>\n",
       "  </tbody>\n",
       "</table>\n",
       "</div>"
      ],
      "text/plain": [
       "                          parameter     value                    unit  \\\n",
       "lastUpdated                                                             \n",
       "2021-11-06 05:00:00+00:00      pm25  7.000000  b'\\xc2\\xb5g/m\\xc2\\xb3'   \n",
       "2020-12-31 04:30:00+00:00       no2  0.010495                     ppm   \n",
       "2020-12-31 04:30:00+00:00        co  0.303487                     ppm   \n",
       "2021-11-25 18:00:00+00:00       so2  0.000000                     ppm   \n",
       "2020-11-01 04:00:00+00:00        no  0.007021                     ppm   \n",
       "\n",
       "                          sourceName country        city  \\\n",
       "lastUpdated                                                \n",
       "2021-11-06 05:00:00+00:00     AirNow      US  Pittsburgh   \n",
       "2020-12-31 04:30:00+00:00     AirNow      US  Pittsburgh   \n",
       "2020-12-31 04:30:00+00:00     AirNow      US  Pittsburgh   \n",
       "2021-11-25 18:00:00+00:00     AirNow      US  Pittsburgh   \n",
       "2020-11-01 04:00:00+00:00     AirNow      US  Pittsburgh   \n",
       "\n",
       "                                       location  averagingPeriod.value  \\\n",
       "lastUpdated                                                              \n",
       "2021-11-06 05:00:00+00:00  Parkway East (Near R                 3600.0   \n",
       "2020-12-31 04:30:00+00:00  Parkway East (Near R                    NaN   \n",
       "2020-12-31 04:30:00+00:00  Parkway East (Near R                    NaN   \n",
       "2021-11-25 18:00:00+00:00  Parkway East (Near R                    NaN   \n",
       "2020-11-01 04:00:00+00:00  Parkway East (Near R                    NaN   \n",
       "\n",
       "                          averagingPeriod.unit  \n",
       "lastUpdated                                     \n",
       "2021-11-06 05:00:00+00:00              seconds  \n",
       "2020-12-31 04:30:00+00:00              seconds  \n",
       "2020-12-31 04:30:00+00:00              seconds  \n",
       "2021-11-25 18:00:00+00:00              seconds  \n",
       "2020-11-01 04:00:00+00:00              seconds  "
      ]
     },
     "execution_count": 5,
     "metadata": {},
     "output_type": "execute_result"
    }
   ],
   "source": [
    "#Printing out the first few rows.\n",
    "us.head()"
   ]
  },
  {
   "cell_type": "markdown",
   "metadata": {
    "id": "n4VZvYP0mcd8"
   },
   "source": [
    "##Data Management"
   ]
  },
  {
   "cell_type": "code",
   "execution_count": 6,
   "metadata": {
    "colab": {
     "base_uri": "https://localhost:8080/"
    },
    "id": "NZ2VN_r2kT_S",
    "outputId": "a2d922c8-1fad-41f3-e89e-5a3cc5dd484a"
   },
   "outputs": [
    {
     "name": "stdout",
     "output_type": "stream",
     "text": [
      "The dataset has  9 columns and  243 rows.\n"
     ]
    }
   ],
   "source": [
    "#Finding more about the number of columns and rows\n",
    "print('The dataset has ', us.shape[1], 'columns and ', us.shape[0], 'rows.')"
   ]
  },
  {
   "cell_type": "code",
   "execution_count": 7,
   "metadata": {
    "colab": {
     "base_uri": "https://localhost:8080/"
    },
    "id": "hnuHKwUfpr7e",
    "outputId": "45d79650-91d1-48a9-8e9b-daa5c062ebb4"
   },
   "outputs": [
    {
     "name": "stdout",
     "output_type": "stream",
     "text": [
      "<class 'pandas.core.frame.DataFrame'>\n",
      "DatetimeIndex: 243 entries, 2021-11-06 05:00:00+00:00 to 2021-11-25 17:00:00+00:00\n",
      "Data columns (total 9 columns):\n",
      " #   Column                 Non-Null Count  Dtype  \n",
      "---  ------                 --------------  -----  \n",
      " 0   parameter              243 non-null    object \n",
      " 1   value                  243 non-null    float64\n",
      " 2   unit                   243 non-null    object \n",
      " 3   sourceName             243 non-null    object \n",
      " 4   country                243 non-null    object \n",
      " 5   city                   243 non-null    object \n",
      " 6   location               243 non-null    object \n",
      " 7   averagingPeriod.value  238 non-null    float64\n",
      " 8   averagingPeriod.unit   243 non-null    object \n",
      "dtypes: float64(2), object(7)\n",
      "memory usage: 19.0+ KB\n"
     ]
    }
   ],
   "source": [
    "#Finding out about the datatypes of our dataset\n",
    "us.info()"
   ]
  },
  {
   "cell_type": "code",
   "execution_count": 8,
   "metadata": {
    "id": "xq-djv4UrpYt"
   },
   "outputs": [],
   "source": [
    "#Dropping the missing values in the averagingPeriod.value column to have more consistent data\n",
    "us = us.dropna(subset = ['averagingPeriod.value'])"
   ]
  },
  {
   "cell_type": "markdown",
   "metadata": {
    "id": "VEWl45xDqbEy"
   },
   "source": [
    "##Feature Engineering"
   ]
  },
  {
   "cell_type": "code",
   "execution_count": 9,
   "metadata": {
    "id": "qC5optjapy0-"
   },
   "outputs": [],
   "source": [
    "#Making the index a column for more analysis\n",
    "us['date and time'] = us.index"
   ]
  },
  {
   "cell_type": "code",
   "execution_count": 10,
   "metadata": {
    "colab": {
     "base_uri": "https://localhost:8080/",
     "height": 276
    },
    "id": "wLx99TQjqnby",
    "outputId": "f2db593b-5509-4cc3-a230-4a5b8032c990"
   },
   "outputs": [
    {
     "data": {
      "text/html": [
       "<div>\n",
       "<style scoped>\n",
       "    .dataframe tbody tr th:only-of-type {\n",
       "        vertical-align: middle;\n",
       "    }\n",
       "\n",
       "    .dataframe tbody tr th {\n",
       "        vertical-align: top;\n",
       "    }\n",
       "\n",
       "    .dataframe thead th {\n",
       "        text-align: right;\n",
       "    }\n",
       "</style>\n",
       "<table border=\"1\" class=\"dataframe\">\n",
       "  <thead>\n",
       "    <tr style=\"text-align: right;\">\n",
       "      <th></th>\n",
       "      <th>parameter</th>\n",
       "      <th>value</th>\n",
       "      <th>unit</th>\n",
       "      <th>sourceName</th>\n",
       "      <th>country</th>\n",
       "      <th>city</th>\n",
       "      <th>location</th>\n",
       "      <th>averagingPeriod.value</th>\n",
       "      <th>averagingPeriod.unit</th>\n",
       "      <th>date and time</th>\n",
       "      <th>time</th>\n",
       "      <th>date</th>\n",
       "    </tr>\n",
       "    <tr>\n",
       "      <th>lastUpdated</th>\n",
       "      <th></th>\n",
       "      <th></th>\n",
       "      <th></th>\n",
       "      <th></th>\n",
       "      <th></th>\n",
       "      <th></th>\n",
       "      <th></th>\n",
       "      <th></th>\n",
       "      <th></th>\n",
       "      <th></th>\n",
       "      <th></th>\n",
       "      <th></th>\n",
       "    </tr>\n",
       "  </thead>\n",
       "  <tbody>\n",
       "    <tr>\n",
       "      <th>2021-11-06 05:00:00+00:00</th>\n",
       "      <td>pm25</td>\n",
       "      <td>7.000</td>\n",
       "      <td>b'\\xc2\\xb5g/m\\xc2\\xb3'</td>\n",
       "      <td>AirNow</td>\n",
       "      <td>US</td>\n",
       "      <td>Pittsburgh</td>\n",
       "      <td>Parkway East (Near R</td>\n",
       "      <td>3600.0</td>\n",
       "      <td>seconds</td>\n",
       "      <td>2021-11-06 05:00:00+00:00</td>\n",
       "      <td>05:00:00</td>\n",
       "      <td>2021-11-06</td>\n",
       "    </tr>\n",
       "    <tr>\n",
       "      <th>2021-11-25 17:00:00+00:00</th>\n",
       "      <td>o3</td>\n",
       "      <td>0.025</td>\n",
       "      <td>ppm</td>\n",
       "      <td>AirNow</td>\n",
       "      <td>US</td>\n",
       "      <td>Houston-Sugar Land-Baytown</td>\n",
       "      <td>Houston Deer Park C3</td>\n",
       "      <td>3600.0</td>\n",
       "      <td>seconds</td>\n",
       "      <td>2021-11-25 17:00:00+00:00</td>\n",
       "      <td>17:00:00</td>\n",
       "      <td>2021-11-25</td>\n",
       "    </tr>\n",
       "  </tbody>\n",
       "</table>\n",
       "</div>"
      ],
      "text/plain": [
       "                          parameter  value                    unit sourceName  \\\n",
       "lastUpdated                                                                     \n",
       "2021-11-06 05:00:00+00:00      pm25  7.000  b'\\xc2\\xb5g/m\\xc2\\xb3'     AirNow   \n",
       "2021-11-25 17:00:00+00:00        o3  0.025                     ppm     AirNow   \n",
       "\n",
       "                          country                        city  \\\n",
       "lastUpdated                                                     \n",
       "2021-11-06 05:00:00+00:00      US                  Pittsburgh   \n",
       "2021-11-25 17:00:00+00:00      US  Houston-Sugar Land-Baytown   \n",
       "\n",
       "                                       location  averagingPeriod.value  \\\n",
       "lastUpdated                                                              \n",
       "2021-11-06 05:00:00+00:00  Parkway East (Near R                 3600.0   \n",
       "2021-11-25 17:00:00+00:00  Houston Deer Park C3                 3600.0   \n",
       "\n",
       "                          averagingPeriod.unit             date and time  \\\n",
       "lastUpdated                                                                \n",
       "2021-11-06 05:00:00+00:00              seconds 2021-11-06 05:00:00+00:00   \n",
       "2021-11-25 17:00:00+00:00              seconds 2021-11-25 17:00:00+00:00   \n",
       "\n",
       "                               time        date  \n",
       "lastUpdated                                      \n",
       "2021-11-06 05:00:00+00:00  05:00:00  2021-11-06  \n",
       "2021-11-25 17:00:00+00:00  17:00:00  2021-11-25  "
      ]
     },
     "execution_count": 10,
     "metadata": {},
     "output_type": "execute_result"
    }
   ],
   "source": [
    "#Splitting the date and time into two separate columns\n",
    "us['time'],us['date']= us['date and time'].apply(lambda x:x.time()), us['date and time'].apply(lambda x:x.date())\n",
    "us.head(2)"
   ]
  },
  {
   "cell_type": "code",
   "execution_count": 11,
   "metadata": {
    "id": "t5Tc-FeUrVQR"
   },
   "outputs": [],
   "source": [
    "#Dropping the date and time column after splitting\n",
    "us = us.drop(['date and time'],axis=1)"
   ]
  },
  {
   "cell_type": "code",
   "execution_count": 12,
   "metadata": {
    "id": "Qh5MKMekseEu"
   },
   "outputs": [],
   "source": [
    "#Separating the date column into year, month and day\n",
    "us['year'] = pd.DatetimeIndex(us['date']).year\n",
    "us['month'] = pd.DatetimeIndex(us['date']).month\n",
    "us['day'] = pd.DatetimeIndex(us['date']).day "
   ]
  },
  {
   "cell_type": "code",
   "execution_count": 13,
   "metadata": {
    "colab": {
     "base_uri": "https://localhost:8080/",
     "height": 127
    },
    "id": "AA0dFSpgtGtW",
    "outputId": "da09fe59-1857-48cf-cf6f-34ef12a8bc48"
   },
   "outputs": [
    {
     "data": {
      "text/html": [
       "<div>\n",
       "<style scoped>\n",
       "    .dataframe tbody tr th:only-of-type {\n",
       "        vertical-align: middle;\n",
       "    }\n",
       "\n",
       "    .dataframe tbody tr th {\n",
       "        vertical-align: top;\n",
       "    }\n",
       "\n",
       "    .dataframe thead th {\n",
       "        text-align: right;\n",
       "    }\n",
       "</style>\n",
       "<table border=\"1\" class=\"dataframe\">\n",
       "  <thead>\n",
       "    <tr style=\"text-align: right;\">\n",
       "      <th></th>\n",
       "      <th>parameter</th>\n",
       "      <th>value</th>\n",
       "      <th>unit</th>\n",
       "      <th>sourceName</th>\n",
       "      <th>country</th>\n",
       "      <th>city</th>\n",
       "      <th>location</th>\n",
       "      <th>averagingPeriod.value</th>\n",
       "      <th>averagingPeriod.unit</th>\n",
       "      <th>time</th>\n",
       "      <th>year</th>\n",
       "      <th>month</th>\n",
       "      <th>day</th>\n",
       "    </tr>\n",
       "    <tr>\n",
       "      <th>lastUpdated</th>\n",
       "      <th></th>\n",
       "      <th></th>\n",
       "      <th></th>\n",
       "      <th></th>\n",
       "      <th></th>\n",
       "      <th></th>\n",
       "      <th></th>\n",
       "      <th></th>\n",
       "      <th></th>\n",
       "      <th></th>\n",
       "      <th></th>\n",
       "      <th></th>\n",
       "      <th></th>\n",
       "    </tr>\n",
       "  </thead>\n",
       "  <tbody>\n",
       "    <tr>\n",
       "      <th>2021-11-06 05:00:00+00:00</th>\n",
       "      <td>pm25</td>\n",
       "      <td>7.0</td>\n",
       "      <td>b'\\xc2\\xb5g/m\\xc2\\xb3'</td>\n",
       "      <td>AirNow</td>\n",
       "      <td>US</td>\n",
       "      <td>Pittsburgh</td>\n",
       "      <td>Parkway East (Near R</td>\n",
       "      <td>3600.0</td>\n",
       "      <td>seconds</td>\n",
       "      <td>05:00:00</td>\n",
       "      <td>2021</td>\n",
       "      <td>11</td>\n",
       "      <td>6</td>\n",
       "    </tr>\n",
       "  </tbody>\n",
       "</table>\n",
       "</div>"
      ],
      "text/plain": [
       "                          parameter  value                    unit sourceName  \\\n",
       "lastUpdated                                                                     \n",
       "2021-11-06 05:00:00+00:00      pm25    7.0  b'\\xc2\\xb5g/m\\xc2\\xb3'     AirNow   \n",
       "\n",
       "                          country        city              location  \\\n",
       "lastUpdated                                                           \n",
       "2021-11-06 05:00:00+00:00      US  Pittsburgh  Parkway East (Near R   \n",
       "\n",
       "                           averagingPeriod.value averagingPeriod.unit  \\\n",
       "lastUpdated                                                             \n",
       "2021-11-06 05:00:00+00:00                 3600.0              seconds   \n",
       "\n",
       "                               time  year  month  day  \n",
       "lastUpdated                                            \n",
       "2021-11-06 05:00:00+00:00  05:00:00  2021     11    6  "
      ]
     },
     "execution_count": 13,
     "metadata": {},
     "output_type": "execute_result"
    }
   ],
   "source": [
    "#Dropping the date column\n",
    "us = us.drop(['date'],axis=1)\n",
    "us.head(1)"
   ]
  },
  {
   "cell_type": "markdown",
   "metadata": {
    "id": "gKhwdxVptiTO"
   },
   "source": [
    "## Data Analysis"
   ]
  },
  {
   "cell_type": "code",
   "execution_count": 14,
   "metadata": {
    "colab": {
     "base_uri": "https://localhost:8080/",
     "height": 285
    },
    "id": "9nV9tw82tbuH",
    "outputId": "b43931d9-c96f-4230-8a1d-c4dcc40efc09"
   },
   "outputs": [
    {
     "data": {
      "image/png": "[encoded data removed]",
      "text/plain": [
       "<Figure size 432x288 with 1 Axes>"
      ]
     },
     "metadata": {},
     "output_type": "display_data"
    }
   ],
   "source": [
    "#Visualizing the highest number of air pollutants in the US.\n",
    "import seaborn as sns\n",
    "sns.set(style=\"darkgrid\")\n",
    "ax = sns.countplot(x=\"parameter\", data=us)"
   ]
  },
  {
   "cell_type": "markdown",
   "metadata": {
    "id": "lws0GirBv6f_"
   },
   "source": [
    "PM2.5 was the leading form of air pollutant in the US followed by 03 and PM10. BC was the least form of air pollutant in the US. "
   ]
  },
  {
   "cell_type": "code",
   "execution_count": 1,
   "metadata": {
    "colab": {
     "base_uri": "https://localhost:8080/",
     "height": 318
    },
    "id": "zwMC1PyQxZE7",
    "outputId": "7e69deb4-5fdd-4d84-dee4-c51225cc62b7"
   },
   "outputs": [
    {
     "ename": "NameError",
     "evalue": "name 'us' is not defined",
     "output_type": "error",
     "traceback": [
      "\u001b[0;31m---------------------------------------------------------------------------\u001b[0m",
      "\u001b[0;31mNameError\u001b[0m                                 Traceback (most recent call last)",
      "\u001b[0;32m<ipython-input-1-72c962102534>\u001b[0m in \u001b[0;36m<module>\u001b[0;34m\u001b[0m\n\u001b[1;32m      1\u001b[0m \u001b[0;31m#Finding out the cities with the highest air pollution value.\u001b[0m\u001b[0;34m\u001b[0m\u001b[0;34m\u001b[0m\u001b[0;34m\u001b[0m\u001b[0m\n\u001b[0;32m----> 2\u001b[0;31m \u001b[0mus_1\u001b[0m \u001b[0;34m=\u001b[0m \u001b[0mus\u001b[0m\u001b[0;34m.\u001b[0m\u001b[0mgroupby\u001b[0m\u001b[0;34m(\u001b[0m\u001b[0;34m'value'\u001b[0m\u001b[0;34m)\u001b[0m\u001b[0;34m.\u001b[0m\u001b[0mmean\u001b[0m\u001b[0;34m(\u001b[0m\u001b[0;34m)\u001b[0m\u001b[0;34m\u001b[0m\u001b[0;34m\u001b[0m\u001b[0m\n\u001b[0m\u001b[1;32m      3\u001b[0m \u001b[0mus_1\u001b[0m \u001b[0;34m=\u001b[0m \u001b[0mus_1\u001b[0m\u001b[0;34m.\u001b[0m\u001b[0mreset_index\u001b[0m\u001b[0;34m(\u001b[0m\u001b[0minplace\u001b[0m\u001b[0;34m=\u001b[0m\u001b[0;32mTrue\u001b[0m\u001b[0;34m)\u001b[0m\u001b[0;34m\u001b[0m\u001b[0;34m\u001b[0m\u001b[0m\n\u001b[1;32m      4\u001b[0m \u001b[0;31m#Plotting the graphs using the seaborn barplot\u001b[0m\u001b[0;34m\u001b[0m\u001b[0;34m\u001b[0m\u001b[0;34m\u001b[0m\u001b[0m\n\u001b[1;32m      5\u001b[0m \u001b[0msns\u001b[0m\u001b[0;34m.\u001b[0m\u001b[0mbarplot\u001b[0m\u001b[0;34m(\u001b[0m\u001b[0mx\u001b[0m \u001b[0;34m=\u001b[0m \u001b[0mus\u001b[0m\u001b[0;34m[\u001b[0m\u001b[0;34m'value'\u001b[0m\u001b[0;34m]\u001b[0m\u001b[0;34m.\u001b[0m\u001b[0mhead\u001b[0m\u001b[0;34m(\u001b[0m\u001b[0;36m10\u001b[0m\u001b[0;34m)\u001b[0m\u001b[0;34m,\u001b[0m \u001b[0my\u001b[0m \u001b[0;34m=\u001b[0m \u001b[0mus\u001b[0m\u001b[0;34m[\u001b[0m\u001b[0;34m'city'\u001b[0m\u001b[0;34m]\u001b[0m\u001b[0;34m.\u001b[0m\u001b[0mhead\u001b[0m\u001b[0;34m(\u001b[0m\u001b[0;36m10\u001b[0m\u001b[0;34m)\u001b[0m\u001b[0;34m,\u001b[0m \u001b[0mdata\u001b[0m\u001b[0;34m=\u001b[0m\u001b[0mus_1\u001b[0m\u001b[0;34m)\u001b[0m\u001b[0;34m\u001b[0m\u001b[0;34m\u001b[0m\u001b[0m\n",
      "\u001b[0;31mNameError\u001b[0m: name 'us' is not defined"
     ]
    }
   ],
   "source": [
    "#Finding out the cities with the highest air pollution value.\n",
    "us_1 = us.groupby('value').mean()\n",
    "us_1 = us_1.reset_index(inplace=True)\n",
    "#Plotting the graphs using the seaborn barplot\n",
    "sns.barplot(x = us['value'].head(10), y = us['city'].head(10), data=us_1)\n",
    "plt.xlabel('Value')\n",
    "plt.ylabel('Cities')\n",
    "plt.title('The highest air pollution value of Cities in the US')\n",
    "plt.figure(figsize=(12,8))\n",
    "plt.show()"
   ]
  },
  {
   "cell_type": "markdown",
   "metadata": {
    "id": "4Fp2O3gwytIp"
   },
   "source": [
    "The city with the highest air pollution is:\n",
    "\n",
    "*   Chicago\n",
    "*   Pittsburgh\n",
    "*   South Bend\n",
    "\n"
   ]
  },
  {
   "cell_type": "code",
   "execution_count": 16,
   "metadata": {
    "colab": {
     "base_uri": "https://localhost:8080/",
     "height": 318
    },
    "id": "1yzQDzXFxnp3",
    "outputId": "c12dc773-20ff-4dfd-e56b-70bc4cc60040"
   },
   "outputs": [
    {
     "data": {
      "image/png": "[encoded data removed]",
      "text/plain": [
       "<Figure size 432x288 with 1 Axes>"
      ]
     },
     "metadata": {},
     "output_type": "display_data"
    },
    {
     "data": {
      "text/plain": [
       "<Figure size 864x576 with 0 Axes>"
      ]
     },
     "metadata": {},
     "output_type": "display_data"
    }
   ],
   "source": [
    "#Finding out the location with the highest air pollution value.\n",
    "us_2 = us.groupby('value').mean()\n",
    "us_2 = us_2.reset_index(inplace=True)\n",
    "#Plotting the graphs using the seaborn barplot\n",
    "sns.barplot(x = us['value'].head(10), y = us['location'].head(10), data=us_2)\n",
    "plt.xlabel('Value')\n",
    "plt.ylabel('Cities')\n",
    "plt.title('The highest air pollution value of Cities in the US')\n",
    "plt.figure(figsize=(12,8))\n",
    "plt.show()"
   ]
  },
  {
   "cell_type": "markdown",
   "metadata": {
    "id": "HVSjqwgfzVPw"
   },
   "source": [
    "The locations with the highest air pollution value are\n",
    "\n",
    "\n",
    "*   Ogden Dunes\n",
    "*   Parkway East\n",
    "*   South Bend\n",
    "\n"
   ]
  },
  {
   "cell_type": "code",
   "execution_count": 23,
   "metadata": {
    "colab": {
     "base_uri": "https://localhost:8080/",
     "height": 537
    },
    "id": "TGke3z0Z0SS4",
    "outputId": "c30e60dd-37e7-4ea4-eda9-c95c0e44e260"
   },
   "outputs": [
    {
     "name": "stderr",
     "output_type": "stream",
     "text": [
      "/Users/linda/opt/anaconda3/envs/pp-proj2/lib/python3.8/site-packages/seaborn/_decorators.py:36: FutureWarning: Pass the following variables as keyword args: x, y. From version 0.12, the only valid positional argument will be `data`, and passing other arguments without an explicit keyword will result in an error or misinterpretation.\n",
      "  warnings.warn(\n"
     ]
    },
    {
     "data": {
      "image/png": "[encoded data removed]",
      "text/plain": [
       "<Figure size 1368x504 with 1 Axes>"
      ]
     },
     "metadata": {},
     "output_type": "display_data"
    }
   ],
   "source": [
    "#Finding out the general trend of air pollution over the years.\n",
    "values = us.groupby('year')['value'].mean().reset_index()\n",
    "# Changing the datatype of the year column to int\n",
    "values.year = values.year.astype(int) \n",
    "# Setting the figure size of the plot to 19 by 7\n",
    "plt.figure(figsize=(19,7))\n",
    "# Plotting a pointplot to show the trend of average price across the years\n",
    "ax = sns.pointplot(values.year,values.value,color=\"w\") \n",
    "# setting the background color to black, for contrast\n",
    "ax.set_facecolor(\"k\") \n",
    "plt.grid(True,color=\"grey\",alpha=.3)\n",
    "plt.title(\"Air Pollution over the years\",color='b', y = 1.05) \n",
    "plt.show()"
   ]
  },
  {
   "cell_type": "markdown",
   "metadata": {
    "id": "qyCvBZQT0_ic"
   },
   "source": [
    "There has been a dynamic shift in air pollution value over the years with year 2017 and 2020 recording the lowest values. Though there is a general increase in air pollution over the years."
   ]
  },
  {
   "cell_type": "markdown",
   "metadata": {
    "id": "ajMLkQIyH8Pu"
   },
   "source": [
    "##Geo location mapping"
   ]
  },
  {
   "cell_type": "code",
   "execution_count": 24,
   "metadata": {
    "id": "-VDpH7sZIMmc"
   },
   "outputs": [],
   "source": [
    "#Copying the data in a different data frame\n",
    "df = us.copy()"
   ]
  },
  {
   "cell_type": "code",
   "execution_count": 25,
   "metadata": {
    "id": "dHdPmet_F3S8"
   },
   "outputs": [
    {
     "name": "stdout",
     "output_type": "stream",
     "text": [
      "Requirement already satisfied: opencage in /Users/linda/opt/anaconda3/envs/pp-proj2/lib/python3.8/site-packages (2.0.0)\n",
      "Requirement already satisfied: pyopenssl>=0.15.1 in /Users/linda/opt/anaconda3/envs/pp-proj2/lib/python3.8/site-packages (from opencage) (19.1.0)\n",
      "Requirement already satisfied: backoff>=1.10.0 in /Users/linda/opt/anaconda3/envs/pp-proj2/lib/python3.8/site-packages (from opencage) (1.11.1)\n",
      "Requirement already satisfied: Requests>=2.2.0 in /Users/linda/opt/anaconda3/envs/pp-proj2/lib/python3.8/site-packages (from opencage) (2.24.0)\n",
      "Requirement already satisfied: six>=1.5.2 in /Users/linda/opt/anaconda3/envs/pp-proj2/lib/python3.8/site-packages (from pyopenssl>=0.15.1->opencage) (1.15.0)\n",
      "Requirement already satisfied: cryptography>=2.8 in /Users/linda/opt/anaconda3/envs/pp-proj2/lib/python3.8/site-packages (from pyopenssl>=0.15.1->opencage) (3.1.1)\n",
      "Requirement already satisfied: chardet<4,>=3.0.2 in /Users/linda/opt/anaconda3/envs/pp-proj2/lib/python3.8/site-packages (from Requests>=2.2.0->opencage) (3.0.4)\n",
      "Requirement already satisfied: idna<3,>=2.5 in /Users/linda/opt/anaconda3/envs/pp-proj2/lib/python3.8/site-packages (from Requests>=2.2.0->opencage) (2.10)\n",
      "Requirement already satisfied: urllib3!=1.25.0,!=1.25.1,<1.26,>=1.21.1 in /Users/linda/opt/anaconda3/envs/pp-proj2/lib/python3.8/site-packages (from Requests>=2.2.0->opencage) (1.25.11)\n",
      "Requirement already satisfied: certifi>=2017.4.17 in /Users/linda/opt/anaconda3/envs/pp-proj2/lib/python3.8/site-packages (from Requests>=2.2.0->opencage) (2020.6.20)\n",
      "Requirement already satisfied: cffi!=1.11.3,>=1.8 in /Users/linda/opt/anaconda3/envs/pp-proj2/lib/python3.8/site-packages (from cryptography>=2.8->pyopenssl>=0.15.1->opencage) (1.14.3)\n",
      "Requirement already satisfied: pycparser in /Users/linda/opt/anaconda3/envs/pp-proj2/lib/python3.8/site-packages (from cffi!=1.11.3,>=1.8->cryptography>=2.8->pyopenssl>=0.15.1->opencage) (2.20)\n"
     ]
    }
   ],
   "source": [
    "#Installing the necessary library\n",
    "!pip install opencage"
   ]
  },
  {
   "cell_type": "code",
   "execution_count": 26,
   "metadata": {
    "id": "FpwkD1WjF1Zl"
   },
   "outputs": [],
   "source": [
    "from opencage.geocoder import OpenCageGeocode"
   ]
  },
  {
   "cell_type": "code",
   "execution_count": 27,
   "metadata": {
    "id": "eCXaMNaZGq6R"
   },
   "outputs": [],
   "source": [
    "key = '0fdd2e2ef2a647158a9836b860f87f68'  # get api key from:  https://opencagedata.com\n",
    "\n",
    "\n",
    "\t\n",
    "geocoder = OpenCageGeocode(key)"
   ]
  },
  {
   "cell_type": "code",
   "execution_count": 28,
   "metadata": {
    "id": "f7QJvLR8F-n3"
   },
   "outputs": [],
   "source": [
    "#Creating a for loop to map the geo locations\n",
    "list_lat = []   # create empty lists\n",
    "\n",
    "list_long = []\n",
    "\n",
    "\n",
    "\t\n",
    "for index, row in df.iterrows(): # iterate over rows in dataframe\n",
    "\n",
    "\n",
    "\n",
    "    City = row['city']       \n",
    "    query = str(City)\n",
    "\n",
    "    results = geocoder.geocode(query)   \n",
    "    lat = results[0]['geometry']['lat']\n",
    "    long = results[0]['geometry']['lng']\n",
    "\n",
    "    list_lat.append(lat)\n",
    "    list_long.append(long)\n",
    "\n",
    "\t\n",
    "# create new columns from lists    \n",
    "\n",
    "df['lat'] = list_lat   \n",
    "\n",
    "df['lon'] = list_long"
   ]
  },
  {
   "cell_type": "code",
   "execution_count": 29,
   "metadata": {
    "colab": {
     "base_uri": "https://localhost:8080/",
     "height": 229
    },
    "id": "DP2toDj8HuA2",
    "outputId": "e9095b3a-d112-4d02-f927-cd0d69f3ad0a"
   },
   "outputs": [
    {
     "data": {
      "text/html": [
       "<div>\n",
       "<style scoped>\n",
       "    .dataframe tbody tr th:only-of-type {\n",
       "        vertical-align: middle;\n",
       "    }\n",
       "\n",
       "    .dataframe tbody tr th {\n",
       "        vertical-align: top;\n",
       "    }\n",
       "\n",
       "    .dataframe thead th {\n",
       "        text-align: right;\n",
       "    }\n",
       "</style>\n",
       "<table border=\"1\" class=\"dataframe\">\n",
       "  <thead>\n",
       "    <tr style=\"text-align: right;\">\n",
       "      <th></th>\n",
       "      <th>parameter</th>\n",
       "      <th>value</th>\n",
       "      <th>unit</th>\n",
       "      <th>sourceName</th>\n",
       "      <th>country</th>\n",
       "      <th>city</th>\n",
       "      <th>location</th>\n",
       "      <th>averagingPeriod.value</th>\n",
       "      <th>averagingPeriod.unit</th>\n",
       "      <th>time</th>\n",
       "      <th>year</th>\n",
       "      <th>month</th>\n",
       "      <th>day</th>\n",
       "      <th>lat</th>\n",
       "      <th>lon</th>\n",
       "    </tr>\n",
       "    <tr>\n",
       "      <th>lastUpdated</th>\n",
       "      <th></th>\n",
       "      <th></th>\n",
       "      <th></th>\n",
       "      <th></th>\n",
       "      <th></th>\n",
       "      <th></th>\n",
       "      <th></th>\n",
       "      <th></th>\n",
       "      <th></th>\n",
       "      <th></th>\n",
       "      <th></th>\n",
       "      <th></th>\n",
       "      <th></th>\n",
       "      <th></th>\n",
       "      <th></th>\n",
       "    </tr>\n",
       "  </thead>\n",
       "  <tbody>\n",
       "    <tr>\n",
       "      <th>2021-11-06 05:00:00+00:00</th>\n",
       "      <td>pm25</td>\n",
       "      <td>7.000</td>\n",
       "      <td>b'\\xc2\\xb5g/m\\xc2\\xb3'</td>\n",
       "      <td>AirNow</td>\n",
       "      <td>US</td>\n",
       "      <td>Pittsburgh</td>\n",
       "      <td>Parkway East (Near R</td>\n",
       "      <td>3600.0</td>\n",
       "      <td>seconds</td>\n",
       "      <td>05:00:00</td>\n",
       "      <td>2021</td>\n",
       "      <td>11</td>\n",
       "      <td>6</td>\n",
       "      <td>40.441694</td>\n",
       "      <td>-79.990086</td>\n",
       "    </tr>\n",
       "    <tr>\n",
       "      <th>2021-11-25 17:00:00+00:00</th>\n",
       "      <td>o3</td>\n",
       "      <td>0.025</td>\n",
       "      <td>ppm</td>\n",
       "      <td>AirNow</td>\n",
       "      <td>US</td>\n",
       "      <td>Houston-Sugar Land-Baytown</td>\n",
       "      <td>Houston Deer Park C3</td>\n",
       "      <td>3600.0</td>\n",
       "      <td>seconds</td>\n",
       "      <td>17:00:00</td>\n",
       "      <td>2021</td>\n",
       "      <td>11</td>\n",
       "      <td>25</td>\n",
       "      <td>29.735500</td>\n",
       "      <td>-94.977430</td>\n",
       "    </tr>\n",
       "  </tbody>\n",
       "</table>\n",
       "</div>"
      ],
      "text/plain": [
       "                          parameter  value                    unit sourceName  \\\n",
       "lastUpdated                                                                     \n",
       "2021-11-06 05:00:00+00:00      pm25  7.000  b'\\xc2\\xb5g/m\\xc2\\xb3'     AirNow   \n",
       "2021-11-25 17:00:00+00:00        o3  0.025                     ppm     AirNow   \n",
       "\n",
       "                          country                        city  \\\n",
       "lastUpdated                                                     \n",
       "2021-11-06 05:00:00+00:00      US                  Pittsburgh   \n",
       "2021-11-25 17:00:00+00:00      US  Houston-Sugar Land-Baytown   \n",
       "\n",
       "                                       location  averagingPeriod.value  \\\n",
       "lastUpdated                                                              \n",
       "2021-11-06 05:00:00+00:00  Parkway East (Near R                 3600.0   \n",
       "2021-11-25 17:00:00+00:00  Houston Deer Park C3                 3600.0   \n",
       "\n",
       "                          averagingPeriod.unit      time  year  month  day  \\\n",
       "lastUpdated                                                                  \n",
       "2021-11-06 05:00:00+00:00              seconds  05:00:00  2021     11    6   \n",
       "2021-11-25 17:00:00+00:00              seconds  17:00:00  2021     11   25   \n",
       "\n",
       "                                 lat        lon  \n",
       "lastUpdated                                      \n",
       "2021-11-06 05:00:00+00:00  40.441694 -79.990086  \n",
       "2021-11-25 17:00:00+00:00  29.735500 -94.977430  "
      ]
     },
     "execution_count": 29,
     "metadata": {},
     "output_type": "execute_result"
    }
   ],
   "source": [
    "#Viewing our new columns.\n",
    "df.head(2)"
   ]
  },
  {
   "cell_type": "code",
   "execution_count": 31,
   "metadata": {
    "id": "WezQBe79M1F9"
   },
   "outputs": [
    {
     "ename": "ModuleNotFoundError",
     "evalue": "No module named 'folium'",
     "output_type": "error",
     "traceback": [
      "\u001b[0;31m---------------------------------------------------------------------------\u001b[0m",
      "\u001b[0;31mModuleNotFoundError\u001b[0m                       Traceback (most recent call last)",
      "\u001b[0;32m<ipython-input-31-7e9401509850>\u001b[0m in \u001b[0;36m<module>\u001b[0;34m\u001b[0m\n\u001b[0;32m----> 1\u001b[0;31m \u001b[0;32mimport\u001b[0m \u001b[0mfolium\u001b[0m\u001b[0;34m\u001b[0m\u001b[0;34m\u001b[0m\u001b[0m\n\u001b[0m\u001b[1;32m      2\u001b[0m \u001b[0;32mfrom\u001b[0m \u001b[0mfolium\u001b[0m \u001b[0;32mimport\u001b[0m \u001b[0mplugins\u001b[0m\u001b[0;34m\u001b[0m\u001b[0;34m\u001b[0m\u001b[0m\n\u001b[1;32m      3\u001b[0m \u001b[0;34m\u001b[0m\u001b[0m\n\u001b[1;32m      4\u001b[0m \u001b[0mget_ipython\u001b[0m\u001b[0;34m(\u001b[0m\u001b[0;34m)\u001b[0m\u001b[0;34m.\u001b[0m\u001b[0mrun_line_magic\u001b[0m\u001b[0;34m(\u001b[0m\u001b[0;34m'matplotlib'\u001b[0m\u001b[0;34m,\u001b[0m \u001b[0;34m'inline'\u001b[0m\u001b[0;34m)\u001b[0m\u001b[0;34m\u001b[0m\u001b[0;34m\u001b[0m\u001b[0m\n",
      "\u001b[0;31mModuleNotFoundError\u001b[0m: No module named 'folium'"
     ]
    }
   ],
   "source": [
    "import folium\n",
    "from folium import plugins\n",
    "\n",
    "%matplotlib inline"
   ]
  },
  {
   "cell_type": "code",
   "execution_count": 32,
   "metadata": {
    "colab": {
     "base_uri": "https://localhost:8080/",
     "height": 866
    },
    "id": "ZDU0fY93OUqw",
    "outputId": "eefe5fde-8bd7-47b0-ea29-01ddeb17cd51"
   },
   "outputs": [
    {
     "ename": "NameError",
     "evalue": "name 'folium' is not defined",
     "output_type": "error",
     "traceback": [
      "\u001b[0;31m---------------------------------------------------------------------------\u001b[0m",
      "\u001b[0;31mNameError\u001b[0m                                 Traceback (most recent call last)",
      "\u001b[0;32m<ipython-input-32-9ff840025005>\u001b[0m in \u001b[0;36m<module>\u001b[0;34m\u001b[0m\n\u001b[0;32m----> 1\u001b[0;31m \u001b[0mm\u001b[0m \u001b[0;34m=\u001b[0m \u001b[0mfolium\u001b[0m\u001b[0;34m.\u001b[0m\u001b[0mMap\u001b[0m\u001b[0;34m(\u001b[0m\u001b[0;34m[\u001b[0m\u001b[0;36m41.8781\u001b[0m\u001b[0;34m,\u001b[0m \u001b[0;34m-\u001b[0m\u001b[0;36m87.6298\u001b[0m\u001b[0;34m]\u001b[0m\u001b[0;34m,\u001b[0m \u001b[0mzoom_start\u001b[0m\u001b[0;34m=\u001b[0m\u001b[0;36m11\u001b[0m\u001b[0;34m)\u001b[0m\u001b[0;34m\u001b[0m\u001b[0;34m\u001b[0m\u001b[0m\n\u001b[0m\u001b[1;32m      2\u001b[0m \u001b[0mm\u001b[0m\u001b[0;34m\u001b[0m\u001b[0;34m\u001b[0m\u001b[0m\n",
      "\u001b[0;31mNameError\u001b[0m: name 'folium' is not defined"
     ]
    }
   ],
   "source": [
    "m = folium.Map([41.8781, -87.6298], zoom_start=11)\n",
    "m"
   ]
  },
  {
   "cell_type": "code",
   "execution_count": null,
   "metadata": {
    "id": "buYWWdElOZyI"
   },
   "outputs": [],
   "source": [
    "# mark each station as a point\n",
    "for index, row in df.iterrows():\n",
    "    folium.CircleMarker([row['lat'], row['lon']],\n",
    "                        radius=15,\n",
    "                        popup=row['city'],\n",
    "                        fill_color=\"#3db7e4\", # divvy color\n",
    "                       ).add_to(m)"
   ]
  },
  {
   "cell_type": "code",
   "execution_count": null,
   "metadata": {
    "colab": {
     "base_uri": "https://localhost:8080/",
     "height": 933
    },
    "id": "9wqO1-k7OosA",
    "outputId": "8e064de4-65f7-4953-d677-2a13cedba628"
   },
   "outputs": [],
   "source": [
    "# convert to (n, 2) nd-array format for heatmap\n",
    "stationArr = df[['lat', 'lon']].values\n",
    "\n",
    "# plot heatmap\n",
    "m.add_children(plugins.HeatMap(stationArr, radius=15))\n",
    "m"
   ]
  },
  {
   "cell_type": "code",
   "execution_count": null,
   "metadata": {
    "id": "qJvj2E4h6rCX"
   },
   "outputs": [],
   "source": [
    "import pandas as pd\n",
    "from shapely.geometry import Point\n",
    "import geopandas as gpd\n",
    "from geopandas import GeoDataFrame\n",
    "\n",
    "\n",
    "geometry = [Point(xy) for xy in zip(df['lon'], df['lat'])]\n",
    "gdf = GeoDataFrame(df, geometry=geometry)   \n"
   ]
  },
  {
   "cell_type": "code",
   "execution_count": null,
   "metadata": {
    "colab": {
     "base_uri": "https://localhost:8080/",
     "height": 320
    },
    "id": "0JC8xZCrLuOO",
    "outputId": "e89fe925-4bbe-4801-ce04-c1306fbd31af"
   },
   "outputs": [],
   "source": [
    "world = gpd.read_file(gpd.datasets.get_path('naturalearth_lowres'))\n",
    "gdf.plot(ax=world.plot(figsize=(10, 6)), marker='o', color='red', markersize=15);"
   ]
  },
  {
   "cell_type": "code",
   "execution_count": null,
   "metadata": {
    "id": "QCag_jy2L2tU"
   },
   "outputs": [],
   "source": []
  },
  {
   "cell_type": "code",
   "execution_count": null,
   "metadata": {},
   "outputs": [],
   "source": []
  }
 ],
 "metadata": {
  "colab": {
   "collapsed_sections": [],
   "include_colab_link": true,
   "name": "1123-01.ipynb",
   "provenance": []
  },
  "kernelspec": {
   "display_name": "Python 3",
   "language": "python",
   "name": "python3"
  },
  "language_info": {
   "codemirror_mode": {
    "name": "ipython",
    "version": 3
   },
   "file_extension": ".py",
   "mimetype": "text/x-python",
   "name": "python",
   "nbconvert_exporter": "python",
   "pygments_lexer": "ipython3",
   "version": "3.8.5"
  }
 },
 "nbformat": 4,
 "nbformat_minor": 1
}
